{
  "nbformat": 4,
  "nbformat_minor": 0,
  "metadata": {
    "colab": {
      "name": "Funtions In Python.ipynb",
      "provenance": [],
      "collapsed_sections": [],
      "toc_visible": true,
      "authorship_tag": "ABX9TyMk6WXlmTVqjQ8y/bQFkPId",
      "include_colab_link": true
    },
    "kernelspec": {
      "name": "python3",
      "display_name": "Python 3"
    }
  },
  "cells": [
    {
      "cell_type": "markdown",
      "metadata": {
        "id": "view-in-github",
        "colab_type": "text"
      },
      "source": [
        "<a href=\"https://colab.research.google.com/github/ibhanu/Python-Workshop/blob/master/Funtions_In_Python.ipynb\" target=\"_parent\"><img src=\"https://colab.research.google.com/assets/colab-badge.svg\" alt=\"Open In Colab\"/></a>"
      ]
    },
    {
      "cell_type": "markdown",
      "metadata": {
        "id": "u0A9shOZk5rs",
        "colab_type": "text"
      },
      "source": [
        "#**Creating or Defining a Function**\n",
        "In Python a function is defined using the def keyword:"
      ]
    },
    {
      "cell_type": "markdown",
      "metadata": {
        "id": "ES9dwThmsr09",
        "colab_type": "text"
      },
      "source": [
        "# **Naming your funtion:**\n",
        "The rules for naming a function are a lot like rules for naming a variable:\n",
        "\n",
        "*  They must start with a letter or an underscore:_.\n",
        "\n",
        "*  They should be lowercase.\n",
        "\n",
        "*  They can have numbers.\n",
        "\n",
        "*  They can be any length (within reason), but keep them short.\n",
        "\n",
        "*  They can’t be the same as a Python keyword. They can have the same name as an existing function (including a built-in), but avoid this for now."
      ]
    },
    {
      "cell_type": "code",
      "metadata": {
        "id": "BIbKZvn9lKU0",
        "colab_type": "code",
        "colab": {}
      },
      "source": [
        "def my_function():\n",
        "  print(\"Hello this is a function\")"
      ],
      "execution_count": 0,
      "outputs": []
    },
    {
      "cell_type": "markdown",
      "metadata": {
        "id": "Wmft7dzOlqEQ",
        "colab_type": "text"
      },
      "source": [
        "# **Calling a Function**\n",
        "To call a function, use the function name followed by parenthesis:\n",
        "\n"
      ]
    },
    {
      "cell_type": "code",
      "metadata": {
        "id": "X6093LUVlv6n",
        "colab_type": "code",
        "outputId": "57f35520-b1c2-42c3-f18c-7e1661839cd1",
        "colab": {
          "base_uri": "https://localhost:8080/",
          "height": 35
        }
      },
      "source": [
        "def my_function():\n",
        "  print(\"Hello this is a function\")\n",
        "\n",
        "my_function()"
      ],
      "execution_count": 0,
      "outputs": [
        {
          "output_type": "stream",
          "text": [
            "Hello this is a function\n"
          ],
          "name": "stdout"
        }
      ]
    },
    {
      "cell_type": "markdown",
      "metadata": {
        "id": "mKXqXzJul3c-",
        "colab_type": "text"
      },
      "source": [
        "# **Arguments**\n",
        "Information can be passed into functions as arguments.\n",
        "\n",
        "Arguments are specified after the function name, inside the parentheses. You can add as many arguments as you want, just separate them with a comma.\n",
        "\n",
        "The following example has a function with one argument (fname). When the function is called, we pass along a first name, which is used inside the function to print the full name:"
      ]
    },
    {
      "cell_type": "code",
      "metadata": {
        "id": "3wyRyfrCl9Yx",
        "colab_type": "code",
        "outputId": "a71469e1-fe4e-479b-f6bd-a02e7ceee10a",
        "colab": {
          "base_uri": "https://localhost:8080/",
          "height": 273
        }
      },
      "source": [
        "def my_function(fname):\n",
        "  print(fname + \" kumar\")\n",
        "\n",
        "a = \"Mayukh\"\n",
        "my_function(\"Abhay\")\n",
        "my_function(\"Bhanu\")\n",
        "my_function(\"Salman\")\n",
        "my_function(a)\n",
        "my_function()"
      ],
      "execution_count": 0,
      "outputs": [
        {
          "output_type": "stream",
          "text": [
            "Abhay kumar\n",
            "Bhanu kumar\n",
            "Salman kumar\n",
            "Mayukh kumar\n"
          ],
          "name": "stdout"
        },
        {
          "output_type": "error",
          "ename": "TypeError",
          "evalue": "ignored",
          "traceback": [
            "\u001b[0;31m---------------------------------------------------------------------------\u001b[0m",
            "\u001b[0;31mTypeError\u001b[0m                                 Traceback (most recent call last)",
            "\u001b[0;32m<ipython-input-6-0c7bb7cc92fc>\u001b[0m in \u001b[0;36m<module>\u001b[0;34m()\u001b[0m\n\u001b[1;32m      7\u001b[0m \u001b[0mmy_function\u001b[0m\u001b[0;34m(\u001b[0m\u001b[0;34m\"Salman\"\u001b[0m\u001b[0;34m)\u001b[0m\u001b[0;34m\u001b[0m\u001b[0;34m\u001b[0m\u001b[0m\n\u001b[1;32m      8\u001b[0m \u001b[0mmy_function\u001b[0m\u001b[0;34m(\u001b[0m\u001b[0ma\u001b[0m\u001b[0;34m)\u001b[0m\u001b[0;34m\u001b[0m\u001b[0;34m\u001b[0m\u001b[0m\n\u001b[0;32m----> 9\u001b[0;31m \u001b[0mmy_function\u001b[0m\u001b[0;34m(\u001b[0m\u001b[0;34m)\u001b[0m\u001b[0;34m\u001b[0m\u001b[0;34m\u001b[0m\u001b[0m\n\u001b[0m",
            "\u001b[0;31mTypeError\u001b[0m: my_function() missing 1 required positional argument: 'fname'"
          ]
        }
      ]
    },
    {
      "cell_type": "markdown",
      "metadata": {
        "id": "Mnr1BWsUmOyb",
        "colab_type": "text"
      },
      "source": [
        "# **Parameters or Arguments?**\n",
        "The terms parameter and argument can be used for the same thing: information that are passed into a function.\n",
        "\n",
        "From a function's perspective:\n",
        "\n",
        "A parameter is the variable listed inside the parentheses in the function definition.\n",
        "\n",
        "An argument is the value that are sent to the function when it is called."
      ]
    },
    {
      "cell_type": "markdown",
      "metadata": {
        "id": "YwZv6ElpoeN9",
        "colab_type": "text"
      },
      "source": [
        "# **Number of Arguments**\n",
        "By default, a function must be called with the correct number of arguments. Meaning that if your function expects 2 arguments, you have to call the function with 2 arguments, not more, and not less."
      ]
    },
    {
      "cell_type": "code",
      "metadata": {
        "id": "ndGYe_NRokVb",
        "colab_type": "code",
        "outputId": "1a903e38-87ee-4aa1-a792-5867848a5fb7",
        "colab": {
          "base_uri": "https://localhost:8080/",
          "height": 240
        }
      },
      "source": [
        "def my_function(fname, lname, middlename):\n",
        "  print(fname + \" \"+middlename +\" \" + lname)\n",
        "\n",
        "my_function(\"Fayaz\", \"something\", \"something more\")\n",
        "my_function(\"Mayukh\",\"RM\")"
      ],
      "execution_count": 0,
      "outputs": [
        {
          "output_type": "stream",
          "text": [
            "Fayaz something more something\n"
          ],
          "name": "stdout"
        },
        {
          "output_type": "error",
          "ename": "TypeError",
          "evalue": "ignored",
          "traceback": [
            "\u001b[0;31m---------------------------------------------------------------------------\u001b[0m",
            "\u001b[0;31mTypeError\u001b[0m                                 Traceback (most recent call last)",
            "\u001b[0;32m<ipython-input-12-a629edee6fa6>\u001b[0m in \u001b[0;36m<module>\u001b[0;34m()\u001b[0m\n\u001b[1;32m      3\u001b[0m \u001b[0;34m\u001b[0m\u001b[0m\n\u001b[1;32m      4\u001b[0m \u001b[0mmy_function\u001b[0m\u001b[0;34m(\u001b[0m\u001b[0;34m\"Fayaz\"\u001b[0m\u001b[0;34m,\u001b[0m \u001b[0;34m\"something\"\u001b[0m\u001b[0;34m,\u001b[0m \u001b[0;34m\"something more\"\u001b[0m\u001b[0;34m)\u001b[0m\u001b[0;34m\u001b[0m\u001b[0;34m\u001b[0m\u001b[0m\n\u001b[0;32m----> 5\u001b[0;31m \u001b[0mmy_function\u001b[0m\u001b[0;34m(\u001b[0m\u001b[0;34m\"Mayukh\"\u001b[0m\u001b[0;34m,\u001b[0m\u001b[0;34m\"RM\"\u001b[0m\u001b[0;34m)\u001b[0m\u001b[0;34m\u001b[0m\u001b[0;34m\u001b[0m\u001b[0m\n\u001b[0m",
            "\u001b[0;31mTypeError\u001b[0m: my_function() missing 1 required positional argument: 'middlename'"
          ]
        }
      ]
    },
    {
      "cell_type": "markdown",
      "metadata": {
        "id": "e-aSkbVuo027",
        "colab_type": "text"
      },
      "source": [
        "If you try to call the function with 1 or 3 arguments, you will get an error:"
      ]
    },
    {
      "cell_type": "code",
      "metadata": {
        "id": "g75Ysmaso4Ut",
        "colab_type": "code",
        "outputId": "ccb98180-b091-4e2b-f11e-3cf0f13743cf",
        "colab": {
          "base_uri": "https://localhost:8080/",
          "height": 203
        }
      },
      "source": [
        "def my_function(fname, lname):\n",
        "  print(fname + \" \" + lname)\n",
        "\n",
        "my_function(\"Emil\")"
      ],
      "execution_count": 0,
      "outputs": [
        {
          "output_type": "error",
          "ename": "TypeError",
          "evalue": "ignored",
          "traceback": [
            "\u001b[0;31m---------------------------------------------------------------------------\u001b[0m",
            "\u001b[0;31mTypeError\u001b[0m                                 Traceback (most recent call last)",
            "\u001b[0;32m<ipython-input-8-49655f8043be>\u001b[0m in \u001b[0;36m<module>\u001b[0;34m()\u001b[0m\n\u001b[1;32m      2\u001b[0m   \u001b[0mprint\u001b[0m\u001b[0;34m(\u001b[0m\u001b[0mfname\u001b[0m \u001b[0;34m+\u001b[0m \u001b[0;34m\" \"\u001b[0m \u001b[0;34m+\u001b[0m \u001b[0mlname\u001b[0m\u001b[0;34m)\u001b[0m\u001b[0;34m\u001b[0m\u001b[0;34m\u001b[0m\u001b[0m\n\u001b[1;32m      3\u001b[0m \u001b[0;34m\u001b[0m\u001b[0m\n\u001b[0;32m----> 4\u001b[0;31m \u001b[0mmy_function\u001b[0m\u001b[0;34m(\u001b[0m\u001b[0;34m\"Emil\"\u001b[0m\u001b[0;34m)\u001b[0m\u001b[0;34m\u001b[0m\u001b[0;34m\u001b[0m\u001b[0m\n\u001b[0m",
            "\u001b[0;31mTypeError\u001b[0m: my_function() missing 1 required positional argument: 'lname'"
          ]
        }
      ]
    },
    {
      "cell_type": "markdown",
      "metadata": {
        "id": "H5LBXWRLo8Rk",
        "colab_type": "text"
      },
      "source": [
        "# **Arbitrary Arguments, \\*args**\n",
        "If you do not know how many arguments that will be passed into your function, add a * before the parameter name in the function definition.\n",
        "\n",
        "This way the function will receive a tuple of arguments, and can access the items accordingly:"
      ]
    },
    {
      "cell_type": "code",
      "metadata": {
        "id": "WYPRoUYYpN0L",
        "colab_type": "code",
        "outputId": "ec635ccf-5e55-46ff-d58e-2068161c5726",
        "colab": {
          "base_uri": "https://localhost:8080/",
          "height": 35
        }
      },
      "source": [
        "def my_function(*kids):\n",
        "  print(\"The youngest child is \" + kids[1])\n",
        "\n",
        "my_function(\"Tarun\", \"Mohit\", \"shubam\")"
      ],
      "execution_count": 0,
      "outputs": [
        {
          "output_type": "stream",
          "text": [
            "The youngest child is Mohit\n"
          ],
          "name": "stdout"
        }
      ]
    },
    {
      "cell_type": "markdown",
      "metadata": {
        "id": "MSuh5ikipif9",
        "colab_type": "text"
      },
      "source": [
        "# **Keyword Arguments**\n",
        "You can also send arguments with the key = value syntax.\n",
        "\n",
        "This way the order of the arguments does not matter."
      ]
    },
    {
      "cell_type": "code",
      "metadata": {
        "id": "oFvCd2bHppBR",
        "colab_type": "code",
        "outputId": "0544e9ab-94f9-444d-a5bd-1682fe6bc59f",
        "colab": {
          "base_uri": "https://localhost:8080/",
          "height": 35
        }
      },
      "source": [
        "def my_function(child3, child2, child1):\n",
        "  print(\"The youngest child is \" + child2)\n",
        "\n",
        "my_function(child1 = \"Abhay\", child2 = \"Bhanu\", child3 = \"Mayukh\")"
      ],
      "execution_count": 0,
      "outputs": [
        {
          "output_type": "stream",
          "text": [
            "The youngest child is Bhanu\n"
          ],
          "name": "stdout"
        }
      ]
    },
    {
      "cell_type": "markdown",
      "metadata": {
        "id": "5FcBwIf_qCGw",
        "colab_type": "text"
      },
      "source": [
        "# **Arbitrary Keyword Arguments, \\*\\*kwargs**\n",
        "If you do not know how many keyword arguments that will be passed into your function, add two asterisk: ** before the parameter name in the function definition.\n",
        "\n",
        "This way the function will receive a dictionary of arguments, and can access the items accordingly:"
      ]
    },
    {
      "cell_type": "code",
      "metadata": {
        "id": "PCoa6rHJqQKA",
        "colab_type": "code",
        "outputId": "f2bd9715-003e-49c9-a28a-433f29eff2cb",
        "colab": {
          "base_uri": "https://localhost:8080/",
          "height": 35
        }
      },
      "source": [
        "def my_function(**kid):\n",
        "  print(\"His first name is \" + kid[\"fname\"])\n",
        "\n",
        "my_function(fname = \"Mauykh\", lname = \"Kumar\")"
      ],
      "execution_count": 0,
      "outputs": [
        {
          "output_type": "stream",
          "text": [
            "His last name is Mauykh\n"
          ],
          "name": "stdout"
        }
      ]
    },
    {
      "cell_type": "markdown",
      "metadata": {
        "id": "4_EdBrcdqfO4",
        "colab_type": "text"
      },
      "source": [
        "# **Default Parameter Value**\n",
        "The following example shows how to use a default parameter value.\n",
        "\n",
        "If we call the function without argument, it uses the default value:"
      ]
    },
    {
      "cell_type": "code",
      "metadata": {
        "id": "n38-AfrIqnS_",
        "colab_type": "code",
        "outputId": "36b26e13-c010-41ea-eaae-b0f1ebced3c3",
        "colab": {
          "base_uri": "https://localhost:8080/",
          "height": 87
        }
      },
      "source": [
        "def my_function(state = \"Karnataka\"):\n",
        "  print(\"I am from \" + state)\n",
        "\n",
        "my_function(\"Tamil Nadu\")\n",
        "my_function(\"Kerala\")\n",
        "my_function()\n",
        "my_function(\"Uttar Pradesh\")"
      ],
      "execution_count": 0,
      "outputs": [
        {
          "output_type": "stream",
          "text": [
            "I am from Tamil Nadu\n",
            "I am from Kerala\n",
            "I am from Karnataka\n",
            "I am from Uttar Pradesh\n"
          ],
          "name": "stdout"
        }
      ]
    },
    {
      "cell_type": "markdown",
      "metadata": {
        "id": "HbT9dNpNq95j",
        "colab_type": "text"
      },
      "source": [
        "# **Passing a List as an Argument**\n",
        "You can send any data types of argument to a function (string, number, list, dictionary etc.), and it will be treated as the same data type inside the function.\n",
        "\n",
        "E.g. if you send a List as an argument, it will still be a List when it reaches the function:"
      ]
    },
    {
      "cell_type": "code",
      "metadata": {
        "id": "ejrrF4lmrAob",
        "colab_type": "code",
        "outputId": "efb8a0e6-38cf-4994-a3ca-405acac62a70",
        "colab": {
          "base_uri": "https://localhost:8080/",
          "height": 87
        }
      },
      "source": [
        "def my_function(food):\n",
        "  for x in food:\n",
        "    print(x)\n",
        "\n",
        "fruits = [\"apple\", \"banana\", \"cherry\", \"strawberry\"]\n",
        "\n",
        "my_function(fruits)"
      ],
      "execution_count": 0,
      "outputs": [
        {
          "output_type": "stream",
          "text": [
            "apple\n",
            "banana\n",
            "cherry\n",
            "strawberry\n"
          ],
          "name": "stdout"
        }
      ]
    },
    {
      "cell_type": "markdown",
      "metadata": {
        "id": "KRhoBwH9rNB1",
        "colab_type": "text"
      },
      "source": [
        "# **Return Values**\n",
        "To let a function return a value, use the return statement:"
      ]
    },
    {
      "cell_type": "code",
      "metadata": {
        "id": "9W1gWVfjrPMh",
        "colab_type": "code",
        "outputId": "337bda2f-ea29-4566-e259-9751f916c968",
        "colab": {
          "base_uri": "https://localhost:8080/",
          "height": 87
        }
      },
      "source": [
        "def my_function(x):\n",
        "  return 5 * x\n",
        "a = my_function(2)\n",
        "print(a)\n",
        "print(my_function(3))\n",
        "print(my_function(5))\n",
        "print(my_function(9))"
      ],
      "execution_count": 0,
      "outputs": [
        {
          "output_type": "stream",
          "text": [
            "10\n",
            "15\n",
            "25\n",
            "45\n"
          ],
          "name": "stdout"
        }
      ]
    },
    {
      "cell_type": "markdown",
      "metadata": {
        "id": "R9rzow06rYn8",
        "colab_type": "text"
      },
      "source": [
        "# **The pass Statement**\n",
        "function definitions cannot be empty, but if you for some reason have a function definition with no content, put in the pass statement to avoid getting an error."
      ]
    },
    {
      "cell_type": "code",
      "metadata": {
        "id": "JAidPgUFrbWN",
        "colab_type": "code",
        "colab": {}
      },
      "source": [
        "def myfunction():\n",
        "  pass"
      ],
      "execution_count": 0,
      "outputs": []
    },
    {
      "cell_type": "markdown",
      "metadata": {
        "id": "jd7cDALiroKR",
        "colab_type": "text"
      },
      "source": [
        "# **Recursion**\n",
        "Python also accepts function recursion, which means a defined function can call itself.\n",
        "\n",
        "Recursion is a common mathematical and programming concept. It means that a function calls itself. This has the benefit of meaning that you can loop through data to reach a result.\n",
        "\n",
        "The developer should be very careful with recursion as it can be quite easy to slip into writing a function which never terminates, or one that uses excess amounts of memory or processor power. However, when written correctly recursion can be a very efficient and mathematically-elegant approach to programming.\n",
        "\n",
        "In this example, tri_recursion() is a function that we have defined to call itself (\"recurse\"). We use the k variable as the data, which decrements (-1) every time we recurse. The recursion ends when the condition is not greater than 0 (i.e. when it is 0).\n",
        "\n",
        "To a new developer it can take some time to work out how exactly this works, best way to find out is by testing and modifying it."
      ]
    },
    {
      "cell_type": "code",
      "metadata": {
        "id": "-j3v00_irrkF",
        "colab_type": "code",
        "outputId": "7d420f6e-0693-4ad4-a17b-93ff935424a7",
        "colab": {
          "base_uri": "https://localhost:8080/",
          "height": 35
        }
      },
      "source": [
        "def factorial(n):\n",
        "    if n == 1:\n",
        "        return 1\n",
        "    else:\n",
        "        return n * factorial(n-1)\n",
        "\n",
        "factorial(4)"
      ],
      "execution_count": 0,
      "outputs": [
        {
          "output_type": "execute_result",
          "data": {
            "text/plain": [
              "24"
            ]
          },
          "metadata": {
            "tags": []
          },
          "execution_count": 19
        }
      ]
    },
    {
      "cell_type": "markdown",
      "metadata": {
        "id": "6Ho6vPL4sdRO",
        "colab_type": "text"
      },
      "source": [
        "# **Example:**\n",
        "4! = 4 * 3!\n",
        "3! = 3 * 2!\n",
        "2! = 2 * 1\n",
        "\n",
        "Replacing the calculated values gives us the following expression\n",
        "\n",
        "4! = 4 * 3 * 2 * 1"
      ]
    },
    {
      "cell_type": "code",
      "metadata": {
        "id": "wak1i85_u_G_",
        "colab_type": "code",
        "outputId": "fc7917d9-1901-4428-d792-97c4eb4a33ba",
        "colab": {
          "base_uri": "https://localhost:8080/",
          "height": 34
        }
      },
      "source": [
        "def gcd(m,n):\n",
        "    fm =[]\n",
        "    fn = []\n",
        "    for i in range(1,m):\n",
        "        if m%i == 0:\n",
        "            fm.append(i)\n",
        "    for i in range(1,n):\n",
        "        if n%i == 0:\n",
        "            fn.append(i)\n",
        "\n",
        "    cf = []\n",
        "    for f in fm:\n",
        "        if f in fn:\n",
        "            cf.append(f)\n",
        "    \n",
        "    print(cf[-1])\n",
        "\n",
        "gcd(12,8)"
      ],
      "execution_count": 0,
      "outputs": [
        {
          "output_type": "stream",
          "text": [
            "4\n"
          ],
          "name": "stdout"
        }
      ]
    },
    {
      "cell_type": "code",
      "metadata": {
        "id": "kMUq0rsrwcEz",
        "colab_type": "code",
        "outputId": "fea78774-d69d-46d8-c74c-f5d3b994dcd7",
        "colab": {
          "base_uri": "https://localhost:8080/",
          "height": 34
        }
      },
      "source": [
        "def gcd(m,n):\n",
        "    if m>=n:\n",
        "        (m,n) = (n,m)\n",
        "    i = m\n",
        "    while(i>1):\n",
        "        if m%i==0 and n%i==0:\n",
        "            return(i)\n",
        "        i = i-1\n",
        "\n",
        "print(gcd(12,8))"
      ],
      "execution_count": 0,
      "outputs": [
        {
          "output_type": "stream",
          "text": [
            "4\n"
          ],
          "name": "stdout"
        }
      ]
    },
    {
      "cell_type": "code",
      "metadata": {
        "id": "CfSx-B9p0rPL",
        "colab_type": "code",
        "outputId": "d6aac5a1-71df-42c9-bb95-c99626fa85a8",
        "colab": {
          "base_uri": "https://localhost:8080/",
          "height": 34
        }
      },
      "source": [
        "a = 'abc'\n",
        "type(a)"
      ],
      "execution_count": 0,
      "outputs": [
        {
          "output_type": "execute_result",
          "data": {
            "text/plain": [
              "str"
            ]
          },
          "metadata": {
            "tags": []
          },
          "execution_count": 33
        }
      ]
    },
    {
      "cell_type": "markdown",
      "metadata": {
        "id": "DkxtmSK0xK6a",
        "colab_type": "text"
      },
      "source": [
        "Class Definition Syntax:\n",
        "\n",
        "class ClassName:\n",
        "    # Statement-1\n",
        "    .\n",
        "    .\n",
        "    .\n",
        "    # Statement-N"
      ]
    },
    {
      "cell_type": "code",
      "metadata": {
        "id": "eixV3kWXxObU",
        "colab_type": "code",
        "colab": {}
      },
      "source": [
        "\n",
        "class Dog: \n",
        "    pass"
      ],
      "execution_count": 0,
      "outputs": []
    },
    {
      "cell_type": "code",
      "metadata": {
        "id": "6htLqyV7xW1a",
        "colab_type": "code",
        "outputId": "725ef8c3-667d-45fe-95fd-1fe59f78d215",
        "colab": {
          "base_uri": "https://localhost:8080/",
          "height": 69
        }
      },
      "source": [
        "class Dog:  \n",
        "      \n",
        "    # A simple class \n",
        "    # attribute \n",
        "    attr1 = \"mamal\"\n",
        "    attr2 = \"dog\"\n",
        "    a = 10\n",
        "    b = 54\n",
        "  \n",
        "    # A sample method   \n",
        "    def fun(self):  \n",
        "        print(\"I'm a\", self.attr1) \n",
        "        print(\"I'm a\", self.attr2)\n",
        "        print(\"Sum of a and b is :\" + str(self.a+self.b)) \n",
        "  \n",
        "# Driver code \n",
        "# Object instantiation \n",
        "Rodger = Dog() \n",
        "  \n",
        "# Accessing class attributes \n",
        "# and method through objects \n",
        "Rodger.fun() "
      ],
      "execution_count": 0,
      "outputs": [
        {
          "output_type": "stream",
          "text": [
            "I'm a mamal\n",
            "I'm a dog\n",
            "Sum of a and b is :64\n"
          ],
          "name": "stdout"
        }
      ]
    },
    {
      "cell_type": "code",
      "metadata": {
        "id": "BV5HRZzGxpEh",
        "colab_type": "code",
        "outputId": "57ac59f2-7a21-4cf5-9179-0a42b82370d1",
        "colab": {
          "base_uri": "https://localhost:8080/",
          "height": 34
        }
      },
      "source": [
        "class Person:  \n",
        "    \n",
        "    # init method or constructor   \n",
        "    def __init__(self, name):  \n",
        "        self.name = name  \n",
        "    \n",
        "    # Sample Method   \n",
        "    def say_hi(self):  \n",
        "        prin\n",
        "p.say_hi()  t('Hello, my name is', self.name)  \n",
        "\n",
        "p1 = Person(\"Ajay\")\n",
        "p1.say_hi()"
      ],
      "execution_count": 0,
      "outputs": [
        {
          "output_type": "stream",
          "text": [
            "Hello, my name is Ajay\n"
          ],
          "name": "stdout"
        }
      ]
    },
    {
      "cell_type": "code",
      "metadata": {
        "id": "C06i7hEXxwsd",
        "colab_type": "code",
        "outputId": "74489e65-dd0b-414d-ad65-86bb18f87b94",
        "colab": {
          "base_uri": "https://localhost:8080/",
          "height": 225
        }
      },
      "source": [
        "class Dog:  \n",
        "    \n",
        "    # Class Variable  \n",
        "    animal = 'dog'             \n",
        "    \n",
        "    # The init method or constructor  \n",
        "    def __init__(self, breed, color):  \n",
        "      \n",
        "        # Instance Variable      \n",
        "        self.breed = breed \n",
        "        self.color = color         \n",
        "     \n",
        "# Objects of CSStudent class  \n",
        "Rodger = Dog(\"Pug\", \"brown\")  \n",
        "Buzo = Dog(\"Bulldog\", \"black\")  \n",
        "  \n",
        "print('Rodger details:')    \n",
        "print('Rodger is a', Rodger.animal)  \n",
        "print('Breed: ', Rodger.breed) \n",
        "print('Color: ', Rodger.color) \n",
        "  \n",
        "print('\\nBuzo details:')    \n",
        "print('Buzo is a', Rodger.animal)  \n",
        "print('Breed: ', Buzo.breed) \n",
        "print('Color: ', Buzo.color) \n",
        "  \n",
        "# Class variables can be accessed using class  \n",
        "# name also  \n",
        "print(\"\\nAccessing class variable using class name\") \n",
        "print(Dog.animal)"
      ],
      "execution_count": 0,
      "outputs": [
        {
          "output_type": "stream",
          "text": [
            "Rodger details:\n",
            "Rodger is a dog\n",
            "Breed:  Pug\n",
            "Color:  brown\n",
            "\n",
            "Buzo details:\n",
            "Buzo is a dog\n",
            "Breed:  Bulldog\n",
            "Color:  black\n",
            "\n",
            "Accessing class variable using class name\n",
            "dog\n"
          ],
          "name": "stdout"
        }
      ]
    },
    {
      "cell_type": "code",
      "metadata": {
        "id": "U-xjtAnfx29R",
        "colab_type": "code",
        "outputId": "bcaa3eef-5aa8-44ec-e209-3802a834f923",
        "colab": {
          "base_uri": "https://localhost:8080/",
          "height": 51
        }
      },
      "source": [
        "class Dog:  \n",
        "        \n",
        "    # Class Variable  \n",
        "    animal = 'dog'\n",
        "      \n",
        "        \n",
        "    # The init method or constructor  \n",
        "    def __init__(self, breed, gender):  \n",
        "            \n",
        "        # Instance Variable  \n",
        "        self.breed = breed\n",
        "        self.gender = gender              \n",
        "    \n",
        "    # Adds an instance variable   \n",
        "    def setColor(self, color):  \n",
        "        self.color = color  \n",
        "        \n",
        "    # Retrieves instance variable      \n",
        "    def getDetails(self):      \n",
        "        return self.color, self.gender    \n",
        "    \n",
        "# Driver Code  \n",
        "Rodger = Dog(\"BullDog\",\"Male\")  \n",
        "Buzo = Dog(\"Pug\", \"Female\")\n",
        "Buzo.setColor(\"Brown\")\n",
        "Rodger.setColor(\"Black\")\n",
        "print(Buzo.getDetails())  \n",
        "print(Rodger.getDetails()) "
      ],
      "execution_count": 0,
      "outputs": [
        {
          "output_type": "stream",
          "text": [
            "('Brown', 'Female')\n",
            "('Black', 'Male')\n"
          ],
          "name": "stdout"
        }
      ]
    }
  ]
}